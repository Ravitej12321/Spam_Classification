{
  "cells": [
    {
      "cell_type": "markdown",
      "metadata": {
        "id": "DAe5gG5lUQOz"
      },
      "source": [
        "# Spam Classification using BOW and TF-IDF\n"
      ]
    },
    {
      "cell_type": "markdown",
      "metadata": {
        "id": "WcjpOaKl58Js"
      },
      "source": [
        "### Goal"
      ]
    },
    {
      "cell_type": "markdown",
      "metadata": {
        "id": "rgavKLilUQO1"
      },
      "source": [
        "The main goal is to develop a robust SMS Spam Classification model by leveraging NLP text preprocessing techniques, specifically utilizing Multinomial Naive Bayes as the classifier along with both CountVectorizer and TF-IDF Vectorizer for feature extraction. The performance of both vectorization methods will be evaluated, and the best-performing model will be deployed to AWS for real-world application."
      ]
    },
    {
      "cell_type": "markdown",
      "metadata": {
        "id": "DzN6BaQ3UQO1"
      },
      "source": [
        "\n",
        "### Data Set Extraction\n"
      ]
    },
    {
      "cell_type": "code",
      "execution_count": null,
      "metadata": {
        "id": "lKMInQUqUQO1"
      },
      "outputs": [],
      "source": [
        "import pandas as pd\n",
        "import numpy as np\n",
        "import os\n",
        "from sklearn.preprocessing import LabelEncoder\n",
        "from sklearn.model_selection import train_test_split\n",
        "from sklearn.feature_extraction.text import CountVectorizer,TfidfVectorizer\n",
        "from sklearn.pipeline import Pipeline\n",
        "from sklearn.naive_bayes import MultinomialNB\n",
        "from sklearn.metrics import accuracy_score,classification_report\n",
        "from nltk.tokenize import sent_tokenize,word_tokenize\n",
        "from nltk.stem import PorterStemmer\n",
        "from nltk.corpus import stopwords\n",
        "import pickle\n",
        "from google.colab import drive\n",
        "drive.mount('/content/drive')\n",
        "nltk.download('punkt')\n",
        "nltk.download('stopwords')\n",
        "nltk.download(\"punkt_tab\")"
      ]
    },
    {
      "cell_type": "code",
      "execution_count": 4,
      "metadata": {
        "id": "LsfRlIsHUQO2"
      },
      "outputs": [],
      "source": [
        "def load_dataset(folder_path):\n",
        "    texts = []\n",
        "    labels = []\n",
        "    for label in ['spam', 'ham']:\n",
        "        folder = os.path.join(folder_path, label)\n",
        "\n",
        "        if not os.path.exists(folder):\n",
        "            continue\n",
        "        for filename in os.listdir(folder):\n",
        "            if filename.endswith('.txt'):\n",
        "                file_path = os.path.join(folder, filename)\n",
        "                try:\n",
        "                    with open(file_path, 'r', encoding='utf-8') as file:\n",
        "                        content = file.read()\n",
        "                except UnicodeDecodeError:\n",
        "                    with open(file_path, 'r', encoding='ISO-8859-1') as file:\n",
        "                        content = file.read()\n",
        "                texts.append(content)\n",
        "                labels.append(label)\n",
        "\n",
        "    return texts, labels"
      ]
    },
    {
      "cell_type": "code",
      "execution_count": 5,
      "metadata": {
        "id": "Rqg1f_LSUQO2"
      },
      "outputs": [],
      "source": [
        "corpus= pd.DataFrame()\n",
        "Overall_label =[]\n",
        "for i in range(1,5):\n",
        "    folder_path= f'/content/drive/MyDrive/Spam_Classification/enron{i}'\n",
        "    texts, labels = load_dataset(folder_path)\n",
        "    data = {\"Mail\":texts,\"label\":labels}\n",
        "    df = pd.DataFrame(data)\n",
        "    corpus = pd.concat([corpus,df],ignore_index=True)\n",
        "    data = {\"Mail\":texts,\"label\":labels}\n",
        "    df = pd.DataFrame(data)\n",
        "    corpus = pd.concat([corpus,df],ignore_index=True)"
      ]
    },
    {
      "cell_type": "code",
      "execution_count": 6,
      "metadata": {
        "colab": {
          "base_uri": "https://localhost:8080/"
        },
        "id": "67KA5Et-UQO2",
        "outputId": "9e638905-8a58-41f0-a07b-1466bacf3c5b"
      },
      "outputs": [
        {
          "name": "stdout",
          "output_type": "stream",
          "text": [
            "Total texts loaded: 44488\n"
          ]
        }
      ],
      "source": [
        "print(f\"Total texts loaded: {len(corpus)}\")"
      ]
    },
    {
      "cell_type": "code",
      "execution_count": 7,
      "metadata": {
        "id": "cExsJUAKUQO4"
      },
      "outputs": [],
      "source": [
        "corpus['Mail'] = corpus['Mail'].str.replace('Subject:', '', regex=False).str.strip().str.lower()"
      ]
    },
    {
      "cell_type": "markdown",
      "metadata": {
        "id": "zZfvgSUvUQO4"
      },
      "source": [
        "Removing the text Starting with \"Subject\" and removing the extra spaces from the text starting and ending"
      ]
    },
    {
      "cell_type": "markdown",
      "metadata": {
        "id": "gb2GWz87UQO5"
      },
      "source": [
        "1. making the text to string lower to remove the repetition of words capitals and lowers\n",
        "2. Removing the Special characters from Text"
      ]
    },
    {
      "cell_type": "code",
      "execution_count": 9,
      "metadata": {
        "id": "WNBDM2FBUQO5"
      },
      "outputs": [],
      "source": [
        "corpus['Mail'] = corpus['Mail'].str.replace(r'[^a-zA-Z0-9\\s]', '', regex=True)"
      ]
    },
    {
      "cell_type": "code",
      "execution_count": 10,
      "metadata": {
        "colab": {
          "base_uri": "https://localhost:8080/",
          "height": 206
        },
        "id": "dfRbRG73UQO5",
        "outputId": "76f843c8-d743-4895-b929-5f8d06f0230f"
      },
      "outputs": [
        {
          "data": {
            "application/vnd.google.colaboratory.intrinsic+json": {
              "summary": "{\n  \"name\": \"corpus\",\n  \"rows\": 44488,\n  \"fields\": [\n    {\n      \"column\": \"Mail\",\n      \"properties\": {\n        \"dtype\": \"category\",\n        \"num_unique_values\": 20001,\n        \"samples\": [\n          \"re  resume from a neural networks zealot\\nceleste \\nwe can use this guy as a help for enron broad band svc  s \\nwe are getting many projects in this area \\nvince\\n                      forwarded by vince j kaminski  hou  ect on 01  24  2000\\n07  38 am                           \\nkonstantin mardanov on 01  24  2000 12  06  42 am\\nto  vince j kaminski  hou  ect  ect\\ncc \\nsubject  re  resume from a neural networks zealot\\non wed  20 oct 1999  vince j kaminski wrote \\n konstantin \\n\\n i am sending your resume to the analyst  associate program\\n with the recommendation to accept you as an intern in my group \\n\\n vince\\ndear dr  kaminski \\nit has been a long time since i contacted you so i was wondering if\\nmy resume had been considered for an internship in your group \\ni will appreciate it very much if you let me know when i should expect\\nto learn about a decision on the issue \\nthank you for you time \\nsincerely \\nkonstantin \\nkonstantin mardanov\\ndepartment of physics   5012 duval st  apt  206\\nuniversity of texas  austin   austin  tx 78751  u  s  a \\nrlm 7  316  austin  tx 78712 \\nu  s  a   phone  001  512  374  1097\\ne  mail  mardanov  physics  utexas  edu\\nurl  almost obsolete   http    www  niif  spb  su   mardanov\\n                                     \",\n          \"hpl nom for may 31 2001\\n see attached file  hplno 531  xls \\n hplno 531  xls\",\n          \"the answer   \\n                      forwarded by mike a roberts  hou  ect on 08  09  2000\\n03  24 pm                           \\nnathan mantua on 08  09  2000 03  21  37 pm\\nto  mike a roberts  hou  ect  ect\\ncc \\nsubject  re  pdo\\ni  m not sure what to think  other than we really don  t have a\\ncredible way to determine what will happen with the pdo  one factor\\nthat provides insight into the climate outlook for the next few months\\nand next few seasons is the expected changes with enso  for which\\nthere is some demonstrated skill in forecasting   the latest\\nobservations show trends to near  normal enso conditions  with\\nsome indication that ocean temperatures will likely be a bit\\nwarmer than normal in the tropics  if this is true  i  d expect a slight\\nbias toward el nino  like climate over north america  which would\\ntend to go against the continuation of cold phase pdo conditions \\nbest wishes \\nnate mantua\\nmrobert  ect  enron  com wrote \\n hi\\n\\n are you thinking we are moving into a cold phase pdo now  \\n\\n thanks\\n\\n mike roberts\\n \\n          nathan mantua email  mantua  atmos  washington  edu   206  616  5347 fax   206  616  5775   dept of atmospheric sciences  jisao  university of washington  box 354235  seattle wa 98195  4235   http    www  atmos  washington  edu   mantua          \\n attl  htm\"\n        ],\n        \"semantic_type\": \"\",\n        \"description\": \"\"\n      }\n    },\n    {\n      \"column\": \"label\",\n      \"properties\": {\n        \"dtype\": \"category\",\n        \"num_unique_values\": 2,\n        \"samples\": [\n          \"ham\",\n          \"spam\"\n        ],\n        \"semantic_type\": \"\",\n        \"description\": \"\"\n      }\n    }\n  ]\n}",
              "type": "dataframe",
              "variable_name": "corpus"
            },
            "text/html": [
              "\n",
              "  <div id=\"df-9c251b15-c19a-47ed-8f82-942c45ceedb2\" class=\"colab-df-container\">\n",
              "    <div>\n",
              "<style scoped>\n",
              "    .dataframe tbody tr th:only-of-type {\n",
              "        vertical-align: middle;\n",
              "    }\n",
              "\n",
              "    .dataframe tbody tr th {\n",
              "        vertical-align: top;\n",
              "    }\n",
              "\n",
              "    .dataframe thead th {\n",
              "        text-align: right;\n",
              "    }\n",
              "</style>\n",
              "<table border=\"1\" class=\"dataframe\">\n",
              "  <thead>\n",
              "    <tr style=\"text-align: right;\">\n",
              "      <th></th>\n",
              "      <th>Mail</th>\n",
              "      <th>label</th>\n",
              "    </tr>\n",
              "  </thead>\n",
              "  <tbody>\n",
              "    <tr>\n",
              "      <th>0</th>\n",
              "      <td>high  quality medication  low rates  start liv...</td>\n",
              "      <td>spam</td>\n",
              "    </tr>\n",
              "    <tr>\n",
              "      <th>1</th>\n",
              "      <td>who are you \\nyour needed soffttwares at rock ...</td>\n",
              "      <td>spam</td>\n",
              "    </tr>\n",
              "    <tr>\n",
              "      <th>2</th>\n",
              "      <td>vicodin for sale  no prior prescription needed...</td>\n",
              "      <td>spam</td>\n",
              "    </tr>\n",
              "    <tr>\n",
              "      <th>3</th>\n",
              "      <td>d  link airplus g 802  11 g wireless router  8...</td>\n",
              "      <td>spam</td>\n",
              "    </tr>\n",
              "    <tr>\n",
              "      <th>4</th>\n",
              "      <td>reply  new sexy anime\\nwould you believe it \\n...</td>\n",
              "      <td>spam</td>\n",
              "    </tr>\n",
              "  </tbody>\n",
              "</table>\n",
              "</div>\n",
              "    <div class=\"colab-df-buttons\">\n",
              "\n",
              "  <div class=\"colab-df-container\">\n",
              "    <button class=\"colab-df-convert\" onclick=\"convertToInteractive('df-9c251b15-c19a-47ed-8f82-942c45ceedb2')\"\n",
              "            title=\"Convert this dataframe to an interactive table.\"\n",
              "            style=\"display:none;\">\n",
              "\n",
              "  <svg xmlns=\"http://www.w3.org/2000/svg\" height=\"24px\" viewBox=\"0 -960 960 960\">\n",
              "    <path d=\"M120-120v-720h720v720H120Zm60-500h600v-160H180v160Zm220 220h160v-160H400v160Zm0 220h160v-160H400v160ZM180-400h160v-160H180v160Zm440 0h160v-160H620v160ZM180-180h160v-160H180v160Zm440 0h160v-160H620v160Z\"/>\n",
              "  </svg>\n",
              "    </button>\n",
              "\n",
              "  <style>\n",
              "    .colab-df-container {\n",
              "      display:flex;\n",
              "      gap: 12px;\n",
              "    }\n",
              "\n",
              "    .colab-df-convert {\n",
              "      background-color: #E8F0FE;\n",
              "      border: none;\n",
              "      border-radius: 50%;\n",
              "      cursor: pointer;\n",
              "      display: none;\n",
              "      fill: #1967D2;\n",
              "      height: 32px;\n",
              "      padding: 0 0 0 0;\n",
              "      width: 32px;\n",
              "    }\n",
              "\n",
              "    .colab-df-convert:hover {\n",
              "      background-color: #E2EBFA;\n",
              "      box-shadow: 0px 1px 2px rgba(60, 64, 67, 0.3), 0px 1px 3px 1px rgba(60, 64, 67, 0.15);\n",
              "      fill: #174EA6;\n",
              "    }\n",
              "\n",
              "    .colab-df-buttons div {\n",
              "      margin-bottom: 4px;\n",
              "    }\n",
              "\n",
              "    [theme=dark] .colab-df-convert {\n",
              "      background-color: #3B4455;\n",
              "      fill: #D2E3FC;\n",
              "    }\n",
              "\n",
              "    [theme=dark] .colab-df-convert:hover {\n",
              "      background-color: #434B5C;\n",
              "      box-shadow: 0px 1px 3px 1px rgba(0, 0, 0, 0.15);\n",
              "      filter: drop-shadow(0px 1px 2px rgba(0, 0, 0, 0.3));\n",
              "      fill: #FFFFFF;\n",
              "    }\n",
              "  </style>\n",
              "\n",
              "    <script>\n",
              "      const buttonEl =\n",
              "        document.querySelector('#df-9c251b15-c19a-47ed-8f82-942c45ceedb2 button.colab-df-convert');\n",
              "      buttonEl.style.display =\n",
              "        google.colab.kernel.accessAllowed ? 'block' : 'none';\n",
              "\n",
              "      async function convertToInteractive(key) {\n",
              "        const element = document.querySelector('#df-9c251b15-c19a-47ed-8f82-942c45ceedb2');\n",
              "        const dataTable =\n",
              "          await google.colab.kernel.invokeFunction('convertToInteractive',\n",
              "                                                    [key], {});\n",
              "        if (!dataTable) return;\n",
              "\n",
              "        const docLinkHtml = 'Like what you see? Visit the ' +\n",
              "          '<a target=\"_blank\" href=https://colab.research.google.com/notebooks/data_table.ipynb>data table notebook</a>'\n",
              "          + ' to learn more about interactive tables.';\n",
              "        element.innerHTML = '';\n",
              "        dataTable['output_type'] = 'display_data';\n",
              "        await google.colab.output.renderOutput(dataTable, element);\n",
              "        const docLink = document.createElement('div');\n",
              "        docLink.innerHTML = docLinkHtml;\n",
              "        element.appendChild(docLink);\n",
              "      }\n",
              "    </script>\n",
              "  </div>\n",
              "\n",
              "\n",
              "<div id=\"df-2884715b-0120-4fa2-8304-59c515a9c36d\">\n",
              "  <button class=\"colab-df-quickchart\" onclick=\"quickchart('df-2884715b-0120-4fa2-8304-59c515a9c36d')\"\n",
              "            title=\"Suggest charts\"\n",
              "            style=\"display:none;\">\n",
              "\n",
              "<svg xmlns=\"http://www.w3.org/2000/svg\" height=\"24px\"viewBox=\"0 0 24 24\"\n",
              "     width=\"24px\">\n",
              "    <g>\n",
              "        <path d=\"M19 3H5c-1.1 0-2 .9-2 2v14c0 1.1.9 2 2 2h14c1.1 0 2-.9 2-2V5c0-1.1-.9-2-2-2zM9 17H7v-7h2v7zm4 0h-2V7h2v10zm4 0h-2v-4h2v4z\"/>\n",
              "    </g>\n",
              "</svg>\n",
              "  </button>\n",
              "\n",
              "<style>\n",
              "  .colab-df-quickchart {\n",
              "      --bg-color: #E8F0FE;\n",
              "      --fill-color: #1967D2;\n",
              "      --hover-bg-color: #E2EBFA;\n",
              "      --hover-fill-color: #174EA6;\n",
              "      --disabled-fill-color: #AAA;\n",
              "      --disabled-bg-color: #DDD;\n",
              "  }\n",
              "\n",
              "  [theme=dark] .colab-df-quickchart {\n",
              "      --bg-color: #3B4455;\n",
              "      --fill-color: #D2E3FC;\n",
              "      --hover-bg-color: #434B5C;\n",
              "      --hover-fill-color: #FFFFFF;\n",
              "      --disabled-bg-color: #3B4455;\n",
              "      --disabled-fill-color: #666;\n",
              "  }\n",
              "\n",
              "  .colab-df-quickchart {\n",
              "    background-color: var(--bg-color);\n",
              "    border: none;\n",
              "    border-radius: 50%;\n",
              "    cursor: pointer;\n",
              "    display: none;\n",
              "    fill: var(--fill-color);\n",
              "    height: 32px;\n",
              "    padding: 0;\n",
              "    width: 32px;\n",
              "  }\n",
              "\n",
              "  .colab-df-quickchart:hover {\n",
              "    background-color: var(--hover-bg-color);\n",
              "    box-shadow: 0 1px 2px rgba(60, 64, 67, 0.3), 0 1px 3px 1px rgba(60, 64, 67, 0.15);\n",
              "    fill: var(--button-hover-fill-color);\n",
              "  }\n",
              "\n",
              "  .colab-df-quickchart-complete:disabled,\n",
              "  .colab-df-quickchart-complete:disabled:hover {\n",
              "    background-color: var(--disabled-bg-color);\n",
              "    fill: var(--disabled-fill-color);\n",
              "    box-shadow: none;\n",
              "  }\n",
              "\n",
              "  .colab-df-spinner {\n",
              "    border: 2px solid var(--fill-color);\n",
              "    border-color: transparent;\n",
              "    border-bottom-color: var(--fill-color);\n",
              "    animation:\n",
              "      spin 1s steps(1) infinite;\n",
              "  }\n",
              "\n",
              "  @keyframes spin {\n",
              "    0% {\n",
              "      border-color: transparent;\n",
              "      border-bottom-color: var(--fill-color);\n",
              "      border-left-color: var(--fill-color);\n",
              "    }\n",
              "    20% {\n",
              "      border-color: transparent;\n",
              "      border-left-color: var(--fill-color);\n",
              "      border-top-color: var(--fill-color);\n",
              "    }\n",
              "    30% {\n",
              "      border-color: transparent;\n",
              "      border-left-color: var(--fill-color);\n",
              "      border-top-color: var(--fill-color);\n",
              "      border-right-color: var(--fill-color);\n",
              "    }\n",
              "    40% {\n",
              "      border-color: transparent;\n",
              "      border-right-color: var(--fill-color);\n",
              "      border-top-color: var(--fill-color);\n",
              "    }\n",
              "    60% {\n",
              "      border-color: transparent;\n",
              "      border-right-color: var(--fill-color);\n",
              "    }\n",
              "    80% {\n",
              "      border-color: transparent;\n",
              "      border-right-color: var(--fill-color);\n",
              "      border-bottom-color: var(--fill-color);\n",
              "    }\n",
              "    90% {\n",
              "      border-color: transparent;\n",
              "      border-bottom-color: var(--fill-color);\n",
              "    }\n",
              "  }\n",
              "</style>\n",
              "\n",
              "  <script>\n",
              "    async function quickchart(key) {\n",
              "      const quickchartButtonEl =\n",
              "        document.querySelector('#' + key + ' button');\n",
              "      quickchartButtonEl.disabled = true;  // To prevent multiple clicks.\n",
              "      quickchartButtonEl.classList.add('colab-df-spinner');\n",
              "      try {\n",
              "        const charts = await google.colab.kernel.invokeFunction(\n",
              "            'suggestCharts', [key], {});\n",
              "      } catch (error) {\n",
              "        console.error('Error during call to suggestCharts:', error);\n",
              "      }\n",
              "      quickchartButtonEl.classList.remove('colab-df-spinner');\n",
              "      quickchartButtonEl.classList.add('colab-df-quickchart-complete');\n",
              "    }\n",
              "    (() => {\n",
              "      let quickchartButtonEl =\n",
              "        document.querySelector('#df-2884715b-0120-4fa2-8304-59c515a9c36d button');\n",
              "      quickchartButtonEl.style.display =\n",
              "        google.colab.kernel.accessAllowed ? 'block' : 'none';\n",
              "    })();\n",
              "  </script>\n",
              "</div>\n",
              "\n",
              "    </div>\n",
              "  </div>\n"
            ],
            "text/plain": [
              "                                                Mail label\n",
              "0  high  quality medication  low rates  start liv...  spam\n",
              "1  who are you \\nyour needed soffttwares at rock ...  spam\n",
              "2  vicodin for sale  no prior prescription needed...  spam\n",
              "3  d  link airplus g 802  11 g wireless router  8...  spam\n",
              "4  reply  new sexy anime\\nwould you believe it \\n...  spam"
            ]
          },
          "execution_count": 10,
          "metadata": {},
          "output_type": "execute_result"
        }
      ],
      "source": [
        "corpus.head()"
      ]
    },
    {
      "cell_type": "markdown",
      "metadata": {
        "id": "t226Z6y3UQO5"
      },
      "source": [
        "### Data Preprocessing Techniques\n",
        "\n"
      ]
    },
    {
      "cell_type": "markdown",
      "metadata": {
        "id": "UHRiZVov5B4A"
      },
      "source": [
        "1. Using the PorterStemmer technique\n",
        "2. Using the SnowballStemmer Technique\n",
        "3. Using the Lemmatization technique\n",
        "\n",
        "Since the PorterStemmer technique is faster than lemmatization technique and having a huge dataset, we have been using the PorterStemmer Technique for our porject\n"
      ]
    },
    {
      "cell_type": "code",
      "execution_count": null,
      "metadata": {
        "id": "NGr4UmvmUQO6"
      },
      "outputs": [],
      "source": [
        "\n",
        "stemmer = PorterStemmer()\n",
        "for index,sentence in enumerate(corpus[\"Mail\"]):\n",
        "    sentence = str(sentence)\n",
        "    sentences = sent_tokenize(sentence)\n",
        "    processed_sentences = []\n",
        "\n",
        "    for word in sentences:\n",
        "        words = word_tokenize(word)\n",
        "        words = [stemmer.stem(word) for word in words if word not in stopwords.words(\"english\")]\n",
        "        processed_sentences.append(\" \".join(words))\n",
        "    corpus.loc[index,\"Mail\"] = \" \".join(processed_sentences)\n",
        "\n"
      ]
    },
    {
      "cell_type": "code",
      "execution_count": 13,
      "metadata": {
        "colab": {
          "base_uri": "https://localhost:8080/"
        },
        "id": "IQ23YD00UQO6",
        "outputId": "5bc6f3bf-9deb-4a1c-9965-56478d79811e"
      },
      "outputs": [
        {
          "name": "stdout",
          "output_type": "stream",
          "text": [
            "                                                Mail label\n",
            "0  high qualiti medic low rate start live normal ...  spam\n",
            "1  need soffttwar rock bottom prri ce bought prev...  spam\n",
            "2  vicodin sale prior prescript need buy vicodin ...  spam\n",
            "3  link airplu g 802 11 g wireless router 87 00 8...  spam\n",
            "4  repli new sexi anim would believ fserh pron tn...  spam\n"
          ]
        }
      ],
      "source": [
        "print(corpus.head())"
      ]
    },
    {
      "cell_type": "code",
      "execution_count": null,
      "metadata": {
        "id": "TPXrbZ9Yi1RH"
      },
      "outputs": [],
      "source": [
        "# Converting the Label column using a LabelEncoder\n",
        "le = LabelEncoder()\n",
        "corpus['label'] = le.fit_transform(corpus['label'])"
      ]
    },
    {
      "cell_type": "code",
      "execution_count": 15,
      "metadata": {
        "colab": {
          "base_uri": "https://localhost:8080/"
        },
        "id": "9l87TvBijBkq",
        "outputId": "95070076-927c-4a37-ed23-40507679bc2f"
      },
      "outputs": [
        {
          "name": "stdout",
          "output_type": "stream",
          "text": [
            "                                                Mail  label\n",
            "0  high qualiti medic low rate start live normal ...      1\n",
            "1  need soffttwar rock bottom prri ce bought prev...      1\n",
            "2  vicodin sale prior prescript need buy vicodin ...      1\n"
          ]
        }
      ],
      "source": [
        "print(corpus.head(3))"
      ]
    },
    {
      "cell_type": "markdown",
      "metadata": {
        "id": "A9XqAmBZw8GY"
      },
      "source": [
        "### Splitting the Dataset into Train set and Test set"
      ]
    },
    {
      "cell_type": "code",
      "execution_count": 16,
      "metadata": {
        "colab": {
          "base_uri": "https://localhost:8080/"
        },
        "id": "ohOsDlcBgeRI",
        "outputId": "12b51419-4ac3-4952-8f7f-83467f251183"
      },
      "outputs": [
        {
          "name": "stdout",
          "output_type": "stream",
          "text": [
            "X_train shape: (35590,)\n",
            "X_test shape: (8898,)\n",
            "y_train shape: label\n",
            "1    17976\n",
            "0    17614\n",
            "Name: count, dtype: int64\n",
            "y_test shape: label\n",
            "0    4472\n",
            "1    4426\n",
            "Name: count, dtype: int64\n"
          ]
        }
      ],
      "source": [
        "# Splitting the data set into train set and testset\n",
        "X_train, X_test, y_train, y_test = train_test_split(corpus['Mail'], corpus['label'], test_size=0.2, random_state=42)\n",
        "print(f\"X_train shape: {X_train.shape}\")\n",
        "print(f\"X_test shape: {X_test.shape}\")\n",
        "print(f\"y_train shape: {y_train.value_counts()}\")\n",
        "print(f\"y_test shape: {y_test.value_counts()}\")"
      ]
    },
    {
      "cell_type": "markdown",
      "metadata": {
        "id": "JrCno05kxG6H"
      },
      "source": [
        "### Converting Text into Vectors Using CountVectorizer and TF-IDF Vectorizer Techniques\n"
      ]
    },
    {
      "cell_type": "markdown",
      "metadata": {
        "id": "VusWTIC55HlG"
      },
      "source": [
        "1. CountVectorizer\n",
        "2. Tf-IDF Vecotrizer\n",
        "* Using the Multinomial Naive Bayes model since multinomial model is well-suited for text-classification, especially spam detection. Because:\n",
        "  1. Suitable for Text Data.\n",
        "  2. Handles High Dimensionality\n",
        "  3. Fast and Scalable\n",
        "  4. Good Baseline Model"
      ]
    },
    {
      "cell_type": "code",
      "execution_count": 17,
      "metadata": {
        "id": "d-0NitJ_XyRg"
      },
      "outputs": [],
      "source": [
        "# creating the model pipeleline with CountVecotrizer\n",
        "model = Pipeline([\n",
        "    ('vectorizer', CountVectorizer()),\n",
        "    ('classifier', MultinomialNB())\n",
        "])\n",
        "# creating the model pipeling with TfidfVectorizer\n",
        "model_tfidf = Pipeline([\n",
        "    ('vectorizer', TfidfVectorizer()),\n",
        "    ('classifier', MultinomialNB())\n",
        "])\n"
      ]
    },
    {
      "cell_type": "markdown",
      "metadata": {
        "id": "ISVZJ-aY07ZZ"
      },
      "source": [
        "### Fitting the model"
      ]
    },
    {
      "cell_type": "code",
      "execution_count": 19,
      "metadata": {
        "colab": {
          "base_uri": "https://localhost:8080/",
          "height": 155
        },
        "id": "_a-gKBSiiNGu",
        "outputId": "0697fb88-e13d-4f50-df51-c1ebec7036d8"
      },
      "outputs": [
        {
          "data": {
            "text/html": [
              "<style>#sk-container-id-1 {\n",
              "  /* Definition of color scheme common for light and dark mode */\n",
              "  --sklearn-color-text: #000;\n",
              "  --sklearn-color-text-muted: #666;\n",
              "  --sklearn-color-line: gray;\n",
              "  /* Definition of color scheme for unfitted estimators */\n",
              "  --sklearn-color-unfitted-level-0: #fff5e6;\n",
              "  --sklearn-color-unfitted-level-1: #f6e4d2;\n",
              "  --sklearn-color-unfitted-level-2: #ffe0b3;\n",
              "  --sklearn-color-unfitted-level-3: chocolate;\n",
              "  /* Definition of color scheme for fitted estimators */\n",
              "  --sklearn-color-fitted-level-0: #f0f8ff;\n",
              "  --sklearn-color-fitted-level-1: #d4ebff;\n",
              "  --sklearn-color-fitted-level-2: #b3dbfd;\n",
              "  --sklearn-color-fitted-level-3: cornflowerblue;\n",
              "\n",
              "  /* Specific color for light theme */\n",
              "  --sklearn-color-text-on-default-background: var(--sg-text-color, var(--theme-code-foreground, var(--jp-content-font-color1, black)));\n",
              "  --sklearn-color-background: var(--sg-background-color, var(--theme-background, var(--jp-layout-color0, white)));\n",
              "  --sklearn-color-border-box: var(--sg-text-color, var(--theme-code-foreground, var(--jp-content-font-color1, black)));\n",
              "  --sklearn-color-icon: #696969;\n",
              "\n",
              "  @media (prefers-color-scheme: dark) {\n",
              "    /* Redefinition of color scheme for dark theme */\n",
              "    --sklearn-color-text-on-default-background: var(--sg-text-color, var(--theme-code-foreground, var(--jp-content-font-color1, white)));\n",
              "    --sklearn-color-background: var(--sg-background-color, var(--theme-background, var(--jp-layout-color0, #111)));\n",
              "    --sklearn-color-border-box: var(--sg-text-color, var(--theme-code-foreground, var(--jp-content-font-color1, white)));\n",
              "    --sklearn-color-icon: #878787;\n",
              "  }\n",
              "}\n",
              "\n",
              "#sk-container-id-1 {\n",
              "  color: var(--sklearn-color-text);\n",
              "}\n",
              "\n",
              "#sk-container-id-1 pre {\n",
              "  padding: 0;\n",
              "}\n",
              "\n",
              "#sk-container-id-1 input.sk-hidden--visually {\n",
              "  border: 0;\n",
              "  clip: rect(1px 1px 1px 1px);\n",
              "  clip: rect(1px, 1px, 1px, 1px);\n",
              "  height: 1px;\n",
              "  margin: -1px;\n",
              "  overflow: hidden;\n",
              "  padding: 0;\n",
              "  position: absolute;\n",
              "  width: 1px;\n",
              "}\n",
              "\n",
              "#sk-container-id-1 div.sk-dashed-wrapped {\n",
              "  border: 1px dashed var(--sklearn-color-line);\n",
              "  margin: 0 0.4em 0.5em 0.4em;\n",
              "  box-sizing: border-box;\n",
              "  padding-bottom: 0.4em;\n",
              "  background-color: var(--sklearn-color-background);\n",
              "}\n",
              "\n",
              "#sk-container-id-1 div.sk-container {\n",
              "  /* jupyter's `normalize.less` sets `[hidden] { display: none; }`\n",
              "     but bootstrap.min.css set `[hidden] { display: none !important; }`\n",
              "     so we also need the `!important` here to be able to override the\n",
              "     default hidden behavior on the sphinx rendered scikit-learn.org.\n",
              "     See: https://github.com/scikit-learn/scikit-learn/issues/21755 */\n",
              "  display: inline-block !important;\n",
              "  position: relative;\n",
              "}\n",
              "\n",
              "#sk-container-id-1 div.sk-text-repr-fallback {\n",
              "  display: none;\n",
              "}\n",
              "\n",
              "div.sk-parallel-item,\n",
              "div.sk-serial,\n",
              "div.sk-item {\n",
              "  /* draw centered vertical line to link estimators */\n",
              "  background-image: linear-gradient(var(--sklearn-color-text-on-default-background), var(--sklearn-color-text-on-default-background));\n",
              "  background-size: 2px 100%;\n",
              "  background-repeat: no-repeat;\n",
              "  background-position: center center;\n",
              "}\n",
              "\n",
              "/* Parallel-specific style estimator block */\n",
              "\n",
              "#sk-container-id-1 div.sk-parallel-item::after {\n",
              "  content: \"\";\n",
              "  width: 100%;\n",
              "  border-bottom: 2px solid var(--sklearn-color-text-on-default-background);\n",
              "  flex-grow: 1;\n",
              "}\n",
              "\n",
              "#sk-container-id-1 div.sk-parallel {\n",
              "  display: flex;\n",
              "  align-items: stretch;\n",
              "  justify-content: center;\n",
              "  background-color: var(--sklearn-color-background);\n",
              "  position: relative;\n",
              "}\n",
              "\n",
              "#sk-container-id-1 div.sk-parallel-item {\n",
              "  display: flex;\n",
              "  flex-direction: column;\n",
              "}\n",
              "\n",
              "#sk-container-id-1 div.sk-parallel-item:first-child::after {\n",
              "  align-self: flex-end;\n",
              "  width: 50%;\n",
              "}\n",
              "\n",
              "#sk-container-id-1 div.sk-parallel-item:last-child::after {\n",
              "  align-self: flex-start;\n",
              "  width: 50%;\n",
              "}\n",
              "\n",
              "#sk-container-id-1 div.sk-parallel-item:only-child::after {\n",
              "  width: 0;\n",
              "}\n",
              "\n",
              "/* Serial-specific style estimator block */\n",
              "\n",
              "#sk-container-id-1 div.sk-serial {\n",
              "  display: flex;\n",
              "  flex-direction: column;\n",
              "  align-items: center;\n",
              "  background-color: var(--sklearn-color-background);\n",
              "  padding-right: 1em;\n",
              "  padding-left: 1em;\n",
              "}\n",
              "\n",
              "\n",
              "/* Toggleable style: style used for estimator/Pipeline/ColumnTransformer box that is\n",
              "clickable and can be expanded/collapsed.\n",
              "- Pipeline and ColumnTransformer use this feature and define the default style\n",
              "- Estimators will overwrite some part of the style using the `sk-estimator` class\n",
              "*/\n",
              "\n",
              "/* Pipeline and ColumnTransformer style (default) */\n",
              "\n",
              "#sk-container-id-1 div.sk-toggleable {\n",
              "  /* Default theme specific background. It is overwritten whether we have a\n",
              "  specific estimator or a Pipeline/ColumnTransformer */\n",
              "  background-color: var(--sklearn-color-background);\n",
              "}\n",
              "\n",
              "/* Toggleable label */\n",
              "#sk-container-id-1 label.sk-toggleable__label {\n",
              "  cursor: pointer;\n",
              "  display: flex;\n",
              "  width: 100%;\n",
              "  margin-bottom: 0;\n",
              "  padding: 0.5em;\n",
              "  box-sizing: border-box;\n",
              "  text-align: center;\n",
              "  align-items: start;\n",
              "  justify-content: space-between;\n",
              "  gap: 0.5em;\n",
              "}\n",
              "\n",
              "#sk-container-id-1 label.sk-toggleable__label .caption {\n",
              "  font-size: 0.6rem;\n",
              "  font-weight: lighter;\n",
              "  color: var(--sklearn-color-text-muted);\n",
              "}\n",
              "\n",
              "#sk-container-id-1 label.sk-toggleable__label-arrow:before {\n",
              "  /* Arrow on the left of the label */\n",
              "  content: \"▸\";\n",
              "  float: left;\n",
              "  margin-right: 0.25em;\n",
              "  color: var(--sklearn-color-icon);\n",
              "}\n",
              "\n",
              "#sk-container-id-1 label.sk-toggleable__label-arrow:hover:before {\n",
              "  color: var(--sklearn-color-text);\n",
              "}\n",
              "\n",
              "/* Toggleable content - dropdown */\n",
              "\n",
              "#sk-container-id-1 div.sk-toggleable__content {\n",
              "  max-height: 0;\n",
              "  max-width: 0;\n",
              "  overflow: hidden;\n",
              "  text-align: left;\n",
              "  /* unfitted */\n",
              "  background-color: var(--sklearn-color-unfitted-level-0);\n",
              "}\n",
              "\n",
              "#sk-container-id-1 div.sk-toggleable__content.fitted {\n",
              "  /* fitted */\n",
              "  background-color: var(--sklearn-color-fitted-level-0);\n",
              "}\n",
              "\n",
              "#sk-container-id-1 div.sk-toggleable__content pre {\n",
              "  margin: 0.2em;\n",
              "  border-radius: 0.25em;\n",
              "  color: var(--sklearn-color-text);\n",
              "  /* unfitted */\n",
              "  background-color: var(--sklearn-color-unfitted-level-0);\n",
              "}\n",
              "\n",
              "#sk-container-id-1 div.sk-toggleable__content.fitted pre {\n",
              "  /* unfitted */\n",
              "  background-color: var(--sklearn-color-fitted-level-0);\n",
              "}\n",
              "\n",
              "#sk-container-id-1 input.sk-toggleable__control:checked~div.sk-toggleable__content {\n",
              "  /* Expand drop-down */\n",
              "  max-height: 200px;\n",
              "  max-width: 100%;\n",
              "  overflow: auto;\n",
              "}\n",
              "\n",
              "#sk-container-id-1 input.sk-toggleable__control:checked~label.sk-toggleable__label-arrow:before {\n",
              "  content: \"▾\";\n",
              "}\n",
              "\n",
              "/* Pipeline/ColumnTransformer-specific style */\n",
              "\n",
              "#sk-container-id-1 div.sk-label input.sk-toggleable__control:checked~label.sk-toggleable__label {\n",
              "  color: var(--sklearn-color-text);\n",
              "  background-color: var(--sklearn-color-unfitted-level-2);\n",
              "}\n",
              "\n",
              "#sk-container-id-1 div.sk-label.fitted input.sk-toggleable__control:checked~label.sk-toggleable__label {\n",
              "  background-color: var(--sklearn-color-fitted-level-2);\n",
              "}\n",
              "\n",
              "/* Estimator-specific style */\n",
              "\n",
              "/* Colorize estimator box */\n",
              "#sk-container-id-1 div.sk-estimator input.sk-toggleable__control:checked~label.sk-toggleable__label {\n",
              "  /* unfitted */\n",
              "  background-color: var(--sklearn-color-unfitted-level-2);\n",
              "}\n",
              "\n",
              "#sk-container-id-1 div.sk-estimator.fitted input.sk-toggleable__control:checked~label.sk-toggleable__label {\n",
              "  /* fitted */\n",
              "  background-color: var(--sklearn-color-fitted-level-2);\n",
              "}\n",
              "\n",
              "#sk-container-id-1 div.sk-label label.sk-toggleable__label,\n",
              "#sk-container-id-1 div.sk-label label {\n",
              "  /* The background is the default theme color */\n",
              "  color: var(--sklearn-color-text-on-default-background);\n",
              "}\n",
              "\n",
              "/* On hover, darken the color of the background */\n",
              "#sk-container-id-1 div.sk-label:hover label.sk-toggleable__label {\n",
              "  color: var(--sklearn-color-text);\n",
              "  background-color: var(--sklearn-color-unfitted-level-2);\n",
              "}\n",
              "\n",
              "/* Label box, darken color on hover, fitted */\n",
              "#sk-container-id-1 div.sk-label.fitted:hover label.sk-toggleable__label.fitted {\n",
              "  color: var(--sklearn-color-text);\n",
              "  background-color: var(--sklearn-color-fitted-level-2);\n",
              "}\n",
              "\n",
              "/* Estimator label */\n",
              "\n",
              "#sk-container-id-1 div.sk-label label {\n",
              "  font-family: monospace;\n",
              "  font-weight: bold;\n",
              "  display: inline-block;\n",
              "  line-height: 1.2em;\n",
              "}\n",
              "\n",
              "#sk-container-id-1 div.sk-label-container {\n",
              "  text-align: center;\n",
              "}\n",
              "\n",
              "/* Estimator-specific */\n",
              "#sk-container-id-1 div.sk-estimator {\n",
              "  font-family: monospace;\n",
              "  border: 1px dotted var(--sklearn-color-border-box);\n",
              "  border-radius: 0.25em;\n",
              "  box-sizing: border-box;\n",
              "  margin-bottom: 0.5em;\n",
              "  /* unfitted */\n",
              "  background-color: var(--sklearn-color-unfitted-level-0);\n",
              "}\n",
              "\n",
              "#sk-container-id-1 div.sk-estimator.fitted {\n",
              "  /* fitted */\n",
              "  background-color: var(--sklearn-color-fitted-level-0);\n",
              "}\n",
              "\n",
              "/* on hover */\n",
              "#sk-container-id-1 div.sk-estimator:hover {\n",
              "  /* unfitted */\n",
              "  background-color: var(--sklearn-color-unfitted-level-2);\n",
              "}\n",
              "\n",
              "#sk-container-id-1 div.sk-estimator.fitted:hover {\n",
              "  /* fitted */\n",
              "  background-color: var(--sklearn-color-fitted-level-2);\n",
              "}\n",
              "\n",
              "/* Specification for estimator info (e.g. \"i\" and \"?\") */\n",
              "\n",
              "/* Common style for \"i\" and \"?\" */\n",
              "\n",
              ".sk-estimator-doc-link,\n",
              "a:link.sk-estimator-doc-link,\n",
              "a:visited.sk-estimator-doc-link {\n",
              "  float: right;\n",
              "  font-size: smaller;\n",
              "  line-height: 1em;\n",
              "  font-family: monospace;\n",
              "  background-color: var(--sklearn-color-background);\n",
              "  border-radius: 1em;\n",
              "  height: 1em;\n",
              "  width: 1em;\n",
              "  text-decoration: none !important;\n",
              "  margin-left: 0.5em;\n",
              "  text-align: center;\n",
              "  /* unfitted */\n",
              "  border: var(--sklearn-color-unfitted-level-1) 1pt solid;\n",
              "  color: var(--sklearn-color-unfitted-level-1);\n",
              "}\n",
              "\n",
              ".sk-estimator-doc-link.fitted,\n",
              "a:link.sk-estimator-doc-link.fitted,\n",
              "a:visited.sk-estimator-doc-link.fitted {\n",
              "  /* fitted */\n",
              "  border: var(--sklearn-color-fitted-level-1) 1pt solid;\n",
              "  color: var(--sklearn-color-fitted-level-1);\n",
              "}\n",
              "\n",
              "/* On hover */\n",
              "div.sk-estimator:hover .sk-estimator-doc-link:hover,\n",
              ".sk-estimator-doc-link:hover,\n",
              "div.sk-label-container:hover .sk-estimator-doc-link:hover,\n",
              ".sk-estimator-doc-link:hover {\n",
              "  /* unfitted */\n",
              "  background-color: var(--sklearn-color-unfitted-level-3);\n",
              "  color: var(--sklearn-color-background);\n",
              "  text-decoration: none;\n",
              "}\n",
              "\n",
              "div.sk-estimator.fitted:hover .sk-estimator-doc-link.fitted:hover,\n",
              ".sk-estimator-doc-link.fitted:hover,\n",
              "div.sk-label-container:hover .sk-estimator-doc-link.fitted:hover,\n",
              ".sk-estimator-doc-link.fitted:hover {\n",
              "  /* fitted */\n",
              "  background-color: var(--sklearn-color-fitted-level-3);\n",
              "  color: var(--sklearn-color-background);\n",
              "  text-decoration: none;\n",
              "}\n",
              "\n",
              "/* Span, style for the box shown on hovering the info icon */\n",
              ".sk-estimator-doc-link span {\n",
              "  display: none;\n",
              "  z-index: 9999;\n",
              "  position: relative;\n",
              "  font-weight: normal;\n",
              "  right: .2ex;\n",
              "  padding: .5ex;\n",
              "  margin: .5ex;\n",
              "  width: min-content;\n",
              "  min-width: 20ex;\n",
              "  max-width: 50ex;\n",
              "  color: var(--sklearn-color-text);\n",
              "  box-shadow: 2pt 2pt 4pt #999;\n",
              "  /* unfitted */\n",
              "  background: var(--sklearn-color-unfitted-level-0);\n",
              "  border: .5pt solid var(--sklearn-color-unfitted-level-3);\n",
              "}\n",
              "\n",
              ".sk-estimator-doc-link.fitted span {\n",
              "  /* fitted */\n",
              "  background: var(--sklearn-color-fitted-level-0);\n",
              "  border: var(--sklearn-color-fitted-level-3);\n",
              "}\n",
              "\n",
              ".sk-estimator-doc-link:hover span {\n",
              "  display: block;\n",
              "}\n",
              "\n",
              "/* \"?\"-specific style due to the `<a>` HTML tag */\n",
              "\n",
              "#sk-container-id-1 a.estimator_doc_link {\n",
              "  float: right;\n",
              "  font-size: 1rem;\n",
              "  line-height: 1em;\n",
              "  font-family: monospace;\n",
              "  background-color: var(--sklearn-color-background);\n",
              "  border-radius: 1rem;\n",
              "  height: 1rem;\n",
              "  width: 1rem;\n",
              "  text-decoration: none;\n",
              "  /* unfitted */\n",
              "  color: var(--sklearn-color-unfitted-level-1);\n",
              "  border: var(--sklearn-color-unfitted-level-1) 1pt solid;\n",
              "}\n",
              "\n",
              "#sk-container-id-1 a.estimator_doc_link.fitted {\n",
              "  /* fitted */\n",
              "  border: var(--sklearn-color-fitted-level-1) 1pt solid;\n",
              "  color: var(--sklearn-color-fitted-level-1);\n",
              "}\n",
              "\n",
              "/* On hover */\n",
              "#sk-container-id-1 a.estimator_doc_link:hover {\n",
              "  /* unfitted */\n",
              "  background-color: var(--sklearn-color-unfitted-level-3);\n",
              "  color: var(--sklearn-color-background);\n",
              "  text-decoration: none;\n",
              "}\n",
              "\n",
              "#sk-container-id-1 a.estimator_doc_link.fitted:hover {\n",
              "  /* fitted */\n",
              "  background-color: var(--sklearn-color-fitted-level-3);\n",
              "}\n",
              "</style><div id=\"sk-container-id-1\" class=\"sk-top-container\"><div class=\"sk-text-repr-fallback\"><pre>Pipeline(steps=[(&#x27;vectorizer&#x27;, TfidfVectorizer()),\n",
              "                (&#x27;classifier&#x27;, MultinomialNB())])</pre><b>In a Jupyter environment, please rerun this cell to show the HTML representation or trust the notebook. <br />On GitHub, the HTML representation is unable to render, please try loading this page with nbviewer.org.</b></div><div class=\"sk-container\" hidden><div class=\"sk-item sk-dashed-wrapped\"><div class=\"sk-label-container\"><div class=\"sk-label fitted sk-toggleable\"><input class=\"sk-toggleable__control sk-hidden--visually\" id=\"sk-estimator-id-1\" type=\"checkbox\" ><label for=\"sk-estimator-id-1\" class=\"sk-toggleable__label fitted sk-toggleable__label-arrow\"><div><div>Pipeline</div></div><div><a class=\"sk-estimator-doc-link fitted\" rel=\"noreferrer\" target=\"_blank\" href=\"https://scikit-learn.org/1.6/modules/generated/sklearn.pipeline.Pipeline.html\">?<span>Documentation for Pipeline</span></a><span class=\"sk-estimator-doc-link fitted\">i<span>Fitted</span></span></div></label><div class=\"sk-toggleable__content fitted\"><pre>Pipeline(steps=[(&#x27;vectorizer&#x27;, TfidfVectorizer()),\n",
              "                (&#x27;classifier&#x27;, MultinomialNB())])</pre></div> </div></div><div class=\"sk-serial\"><div class=\"sk-item\"><div class=\"sk-estimator fitted sk-toggleable\"><input class=\"sk-toggleable__control sk-hidden--visually\" id=\"sk-estimator-id-2\" type=\"checkbox\" ><label for=\"sk-estimator-id-2\" class=\"sk-toggleable__label fitted sk-toggleable__label-arrow\"><div><div>TfidfVectorizer</div></div><div><a class=\"sk-estimator-doc-link fitted\" rel=\"noreferrer\" target=\"_blank\" href=\"https://scikit-learn.org/1.6/modules/generated/sklearn.feature_extraction.text.TfidfVectorizer.html\">?<span>Documentation for TfidfVectorizer</span></a></div></label><div class=\"sk-toggleable__content fitted\"><pre>TfidfVectorizer()</pre></div> </div></div><div class=\"sk-item\"><div class=\"sk-estimator fitted sk-toggleable\"><input class=\"sk-toggleable__control sk-hidden--visually\" id=\"sk-estimator-id-3\" type=\"checkbox\" ><label for=\"sk-estimator-id-3\" class=\"sk-toggleable__label fitted sk-toggleable__label-arrow\"><div><div>MultinomialNB</div></div><div><a class=\"sk-estimator-doc-link fitted\" rel=\"noreferrer\" target=\"_blank\" href=\"https://scikit-learn.org/1.6/modules/generated/sklearn.naive_bayes.MultinomialNB.html\">?<span>Documentation for MultinomialNB</span></a></div></label><div class=\"sk-toggleable__content fitted\"><pre>MultinomialNB()</pre></div> </div></div></div></div></div></div>"
            ],
            "text/plain": [
              "Pipeline(steps=[('vectorizer', TfidfVectorizer()),\n",
              "                ('classifier', MultinomialNB())])"
            ]
          },
          "execution_count": 19,
          "metadata": {},
          "output_type": "execute_result"
        }
      ],
      "source": [
        "# Fit the model with train set and test set\n",
        "model.fit(X_train, y_train)\n",
        "model_tfidf.fit(X_train, y_train)"
      ]
    },
    {
      "cell_type": "code",
      "execution_count": 23,
      "metadata": {
        "colab": {
          "base_uri": "https://localhost:8080/"
        },
        "id": "PhBHPsSjjkUE",
        "outputId": "d23cec3c-3ea2-4f9a-9fca-591c502f3f0d"
      },
      "outputs": [
        {
          "data": {
            "text/plain": [
              "0.9898853674983142"
            ]
          },
          "execution_count": 23,
          "metadata": {},
          "output_type": "execute_result"
        }
      ],
      "source": [
        "model.score(X_test,y_test)"
      ]
    },
    {
      "cell_type": "code",
      "execution_count": 25,
      "metadata": {
        "colab": {
          "base_uri": "https://localhost:8080/"
        },
        "id": "lbapmCOEiNsJ",
        "outputId": "349ddbeb-d2eb-4f81-ef46-b8cbf06da895"
      },
      "outputs": [
        {
          "data": {
            "text/plain": [
              "0.9904472915261857"
            ]
          },
          "execution_count": 25,
          "metadata": {},
          "output_type": "execute_result"
        }
      ],
      "source": [
        "model_tfidf.score(X_test,y_test)"
      ]
    },
    {
      "cell_type": "markdown",
      "metadata": {
        "id": "Pf-N1fEq1AMM"
      },
      "source": [
        "### Testing and Evaluation of model"
      ]
    },
    {
      "cell_type": "markdown",
      "metadata": {
        "id": "JD-y9K-22Dlb"
      },
      "source": [
        "A classification report is a performance evaluation metric in machine learning that provides a detailed breakdown of a classification model's performance for each class and overall. It includes key metrics such as precision, recall, F1-score, and support, which help in understanding how well the model is classifying different categories."
      ]
    },
    {
      "cell_type": "code",
      "execution_count": 26,
      "metadata": {
        "colab": {
          "base_uri": "https://localhost:8080/"
        },
        "id": "mT7RFz5Miahz",
        "outputId": "6c273f1b-9847-43a8-f929-fac98696cf32"
      },
      "outputs": [
        {
          "name": "stdout",
          "output_type": "stream",
          "text": [
            "              precision    recall  f1-score   support\n",
            "\n",
            "           0       1.00      0.98      0.99      4472\n",
            "           1       0.98      1.00      0.99      4426\n",
            "\n",
            "    accuracy                           0.99      8898\n",
            "   macro avg       0.99      0.99      0.99      8898\n",
            "weighted avg       0.99      0.99      0.99      8898\n",
            "\n"
          ]
        }
      ],
      "source": [
        "# Classification report for the CountVectorizer model\n",
        "y_pred = model.predict(X_test)\n",
        "print(classification_report(y_test, y_pred))"
      ]
    },
    {
      "cell_type": "markdown",
      "metadata": {
        "id": "DZkeQMkR2Ipf"
      },
      "source": [
        "Classification Report: A classification report is a performance evaluation metric in machine learning that provides a detailed breakdown of a classification model's performance for each class and overall. It includes key metrics such as precision, recall, F1-score, and support, which help in understanding how well the model is classifying different categories.\n",
        "\n",
        "* Formula: Precision = TP / (TP + FP)\n",
        "* Formula: Recall = TP / (TP + FN)\n",
        "* Formula: F1-score = 2 * (Precision * Recall) / (Precision + Recall)\n",
        "* Support Definition: The number of actual instances in each class.\n",
        "* Accuracy: The proportion of correctly classified instances out of all instances.\n",
        "* Macro Average: The unweighted average of the metrics (precision, recall, F1-score) for each class.\n",
        "* Weighted Average: The average of the metrics weighted by the support of each class.\n"
      ]
    },
    {
      "cell_type": "code",
      "execution_count": 27,
      "metadata": {
        "colab": {
          "base_uri": "https://localhost:8080/"
        },
        "id": "whmTz1kQiiC9",
        "outputId": "b1c9f4ef-3566-4df3-99c8-2ae81b716d81"
      },
      "outputs": [
        {
          "name": "stdout",
          "output_type": "stream",
          "text": [
            "              precision    recall  f1-score   support\n",
            "\n",
            "           0       0.99      0.99      0.99      4472\n",
            "           1       0.99      0.99      0.99      4426\n",
            "\n",
            "    accuracy                           0.99      8898\n",
            "   macro avg       0.99      0.99      0.99      8898\n",
            "weighted avg       0.99      0.99      0.99      8898\n",
            "\n"
          ]
        }
      ],
      "source": [
        "# Classification report with tfidfvector\n",
        "y_pred_tfidf = model_tfidf.predict(X_test)\n",
        "print(classification_report(y_test, y_pred_tfidf))"
      ]
    },
    {
      "cell_type": "code",
      "execution_count": null,
      "metadata": {
        "colab": {
          "base_uri": "https://localhost:8080/"
        },
        "id": "JSElrVYDinrU",
        "outputId": "3806e3d4-02d4-4a37-c6ab-3b37b58230f5"
      },
      "outputs": [
        {
          "name": "stdout",
          "output_type": "stream",
          "text": [
            "Accuracy with CountVectorizer: 0.9898853674983142\n",
            "Accuracy with TfidfVectorizer: 0.9904472915261857\n"
          ]
        }
      ],
      "source": [
        "# compare the both models accuracy\n",
        "accuracy = accuracy_score(y_test, y_pred)\n",
        "accuracy_tfidf = accuracy_score(y_test, y_pred_tfidf)\n",
        "print(f\"Accuracy with CountVectorizer: {accuracy}\")\n",
        "print(f\"Accuracy with TfidfVectorizer: {accuracy_tfidf}\")\n"
      ]
    },
    {
      "cell_type": "code",
      "execution_count": null,
      "metadata": {
        "id": "db6_KTEOkVrM"
      },
      "outputs": [],
      "source": [
        "# Saving the both models in pkl file\n",
        "with open('/content/drive/MyDrive/Spam_Classification/spam_classification_model.pkl', 'wb') as f:\n",
        "    pickle.dump(model, f)\n",
        "with open(\"/content/drive/MyDrive/Spam_Classification/spam_classification_model_tfidf.pkl\", \"wb\") as f:\n",
        "    pickle.dump(model_tfidf, f)\n",
        "with open(\"/content/drive/MyDrive/Spam_Classification/label_encoder.pkl\", \"wb\") as f:\n",
        "    pickle.dump(le, f)\n"
      ]
    },
    {
      "cell_type": "markdown",
      "metadata": {
        "id": "zLKLYpBwyxqD"
      },
      "source": [
        "### Predicting the model with sample input"
      ]
    },
    {
      "cell_type": "code",
      "execution_count": 32,
      "metadata": {
        "colab": {
          "base_uri": "https://localhost:8080/"
        },
        "id": "EVTyP7JglGF6",
        "outputId": "c799a321-3b92-4447-cce3-4faecc386c33"
      },
      "outputs": [
        {
          "name": "stdout",
          "output_type": "stream",
          "text": [
            "The message is classified as: spam\n"
          ]
        },
        {
          "name": "stderr",
          "output_type": "stream",
          "text": [
            "[nltk_data] Downloading package punkt to /root/nltk_data...\n",
            "[nltk_data]   Package punkt is already up-to-date!\n",
            "[nltk_data] Downloading package stopwords to /root/nltk_data...\n",
            "[nltk_data]   Package stopwords is already up-to-date!\n",
            "[nltk_data] Downloading package punkt_tab to /root/nltk_data...\n",
            "[nltk_data]   Package punkt_tab is already up-to-date!\n"
          ]
        }
      ],
      "source": [
        "\n",
        "\n",
        "# Loading the saved model and label encoder file\n",
        "with open('/content/drive/MyDrive/Spam_Classification/spam_classification_model.pkl', 'rb') as f:\n",
        "    model = pickle.load(f)\n",
        "with open(\"/content/drive/MyDrive/Spam_Classification/label_encoder.pkl\", \"rb\") as f:\n",
        "    le = pickle.load(f)\n",
        "\n",
        "def preprocess_text(text):\n",
        "    text = re.sub(r'[^a-zA-Z0-9\\s]', '', text.lower())\n",
        "    sentences = sent_tokenize(text)\n",
        "    processed_sentences = []\n",
        "    for word in sentences:\n",
        "        words = word_tokenize(word)\n",
        "        words = [stemmer.stem(word) for word in words if word not in stopwords.words(\"english\")]\n",
        "        processed_sentences.append(\" \".join(words))\n",
        "    return \" \".join(processed_sentences)"
      ]
    },
    {
      "cell_type": "code",
      "execution_count": 46,
      "metadata": {
        "colab": {
          "base_uri": "https://localhost:8080/"
        },
        "id": "1n_SYxfipqU_",
        "outputId": "aa149875-493c-463b-ea4f-4900bdcc766e"
      },
      "outputs": [
        {
          "name": "stdout",
          "output_type": "stream",
          "text": [
            "The message is classified as:sample_text='You have won a free vacation!' spam\n",
            "The message is classified as: sample_text='Hi, how are you doing today?' ham\n"
          ]
        }
      ],
      "source": [
        "def predict_spam(text):\n",
        "    processed_text = preprocess_text(text)\n",
        "    prediction = model.predict([processed_text])\n",
        "    return le.inverse_transform(prediction)[0]\n",
        "\n",
        "sample_text = \"You have won a free vacation!\"\n",
        "result = predict_spam(sample_text)\n",
        "print(f\"The message is classified as:{sample_text=} {result}\")\n",
        "sample_text = \"Hi, how are you doing today?\"\n",
        "result = predict_spam(sample_text)\n",
        "print(f\"The message is classified as: {sample_text=} {result}\")"
      ]
    },
    {
      "cell_type": "code",
      "execution_count": 38,
      "metadata": {
        "id": "YGNB9JY3pyLk"
      },
      "outputs": [],
      "source": [
        "with open('/content/drive/MyDrive/Spam_Classification/spam_classification_model_tfidf.pkl','rb') as file:\n",
        "  model_tfidf = pickle.load(file)\n",
        "def preprocess_text(text):\n",
        "    text = re.sub(r'[^a-zA-Z0-9\\s]', '', text.lower())\n",
        "    sentences = sent_tokenize(text)\n",
        "    processed_sentences = []\n",
        "    for word in sentences:\n",
        "        words = word_tokenize(word)\n",
        "        words = [stemmer.stem(word) for word in words if word not in stopwords.words(\"english\")]\n",
        "        processed_sentences.append(\" \".join(words))\n",
        "    return \" \".join(processed_sentences)\n",
        "def predict_tfidf_spam(text):\n",
        "    processed_text = preprocess_text(text)\n",
        "    prediction = model_tfidf.predict([processed_text])\n",
        "    return le.inverse_transform(prediction)[0]"
      ]
    },
    {
      "cell_type": "code",
      "execution_count": 53,
      "metadata": {
        "colab": {
          "base_uri": "https://localhost:8080/"
        },
        "id": "gqi6O_8dqBO7",
        "outputId": "1678e9cd-499f-4537-b957-b5dd66eb2bf4"
      },
      "outputs": [
        {
          "name": "stdout",
          "output_type": "stream",
          "text": [
            "The message is classified as:sample_text='you bank account credited with xxxx56 with 1 million' spam\n",
            "The message is classified as:sample_text='Hi, how are you doing today?' spam\n"
          ]
        }
      ],
      "source": [
        "# Sample Input for testing the model\n",
        "sample_text = \"you bank account credited with xxxx56 with 1 million\"\n",
        "result = predict_tfidf_spam(sample_text)\n",
        "print(f\"The message is classified as:{sample_text=} {result}\")\n",
        "sample_text = \"Hi, how are you doing today?\"\n",
        "result = predict_tfidf_spam(sample_text)\n",
        "print(f\"The message is classified as:{sample_text=} {result}\")"
      ]
    },
    {
      "cell_type": "markdown",
      "metadata": {
        "id": "0O040Uk-y8K3"
      },
      "source": [
        "### Conclusion\n"
      ]
    },
    {
      "cell_type": "markdown",
      "metadata": {
        "id": "D6uPhcHY52Ht"
      },
      "source": [
        "This project demonstrates the effectiveness of using NLP techniques, specifically TF-IDF vectorization and Multinomial Naive Bayes classification, for achieving high accuracy in spam detection, with the TF-IDF model achieving a superior accuracy of 99.04% compared to the CountVectorizer model's 98.98%.\""
      ]
    }
  ],
  "metadata": {
    "accelerator": "TPU",
    "colab": {
      "gpuType": "V28",
      "provenance": []
    },
    "kernelspec": {
      "display_name": "Python 3",
      "name": "python3"
    },
    "language_info": {
      "codemirror_mode": {
        "name": "ipython",
        "version": 3
      },
      "file_extension": ".py",
      "mimetype": "text/x-python",
      "name": "python",
      "nbconvert_exporter": "python",
      "pygments_lexer": "ipython3",
      "version": "3.13.2"
    }
  },
  "nbformat": 4,
  "nbformat_minor": 0
}
